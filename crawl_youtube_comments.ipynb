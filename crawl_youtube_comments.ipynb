{
 "cells": [
  {
   "cell_type": "markdown",
   "metadata": {},
   "source": [
    "# YouTube API Package\n",
    "\n",
    "- Get API key: https://console.developers.google.com/\n",
    "- python-youtube: https://pypi.org/project/python-youtube/\n",
    "- YouTube commentThreads API doc: https://developers.google.com/youtube/v3/docs/commentThreads/list"
   ]
  },
  {
   "cell_type": "code",
   "execution_count": 2,
   "metadata": {},
   "outputs": [],
   "source": [
    "from pyyoutube import Api\n",
    "\n",
    "api_key = 'YOUR_API_KEY'\n",
    "api = Api(api_key=api_key)"
   ]
  },
  {
   "cell_type": "code",
   "execution_count": 50,
   "metadata": {},
   "outputs": [
    {
     "data": {
      "text/plain": [
       "CommentThreadListResponse(kind='youtube#commentThreadListResponse')"
      ]
     },
     "execution_count": 50,
     "metadata": {},
     "output_type": "execute_result"
    }
   ],
   "source": [
    "ct_by_all = api.get_comment_threads(\n",
    "    all_to_channel_id=\"UC9PB9nKYqKEx_N3KM-JVTpg\",\n",
    "    count=None)\n",
    "\n",
    "ct_by_all"
   ]
  },
  {
   "cell_type": "code",
   "execution_count": 51,
   "metadata": {},
   "outputs": [
    {
     "data": {
      "text/plain": [
       "3451"
      ]
     },
     "execution_count": 51,
     "metadata": {},
     "output_type": "execute_result"
    }
   ],
   "source": [
    "len(ct_by_all.items)"
   ]
  },
  {
   "cell_type": "code",
   "execution_count": 72,
   "metadata": {},
   "outputs": [
    {
     "data": {
      "text/plain": [
       "'10:06 ㅋㅋㅋㅋㅋㅋㅋㅋㅋ secs\\n정말유익합니당!!'"
      ]
     },
     "execution_count": 72,
     "metadata": {},
     "output_type": "execute_result"
    }
   ],
   "source": [
    "ct_by_all.items[-10].snippet.topLevelComment.snippet.textOriginal"
   ]
  },
  {
   "cell_type": "code",
   "execution_count": 67,
   "metadata": {},
   "outputs": [],
   "source": [
    "with open('comments.txt', 'w') as f:\n",
    "    for item in ct_by_all.items:\n",
    "        comment = item.snippet.topLevelComment.snippet.textOriginal.replace('\\n', ' ').replace('\\r', ' ')\n",
    "        f.write(comment + '\\n')"
   ]
  }
 ],
 "metadata": {
  "kernelspec": {
   "display_name": "Python 3",
   "language": "python",
   "name": "python3"
  },
  "language_info": {
   "codemirror_mode": {
    "name": "ipython",
    "version": 3
   },
   "file_extension": ".py",
   "mimetype": "text/x-python",
   "name": "python",
   "nbconvert_exporter": "python",
   "pygments_lexer": "ipython3",
   "version": "3.7.9"
  }
 },
 "nbformat": 4,
 "nbformat_minor": 4
}
