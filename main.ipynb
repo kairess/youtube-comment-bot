{
 "cells": [
  {
   "cell_type": "code",
   "execution_count": 13,
   "metadata": {},
   "outputs": [],
   "source": [
    "import requests\n",
    "import json"
   ]
  },
  {
   "cell_type": "code",
   "execution_count": 48,
   "metadata": {},
   "outputs": [
    {
     "data": {
      "text/plain": [
       "['잘 보고 있습니다!!!\\n정말 재미있게 잘보고 있네요!\\n와 재밌게 잘 배우고 갑니다!\\n선생님 감사합니다. 너무 잘 따라 합니다..',\n",
       " '잘 보고 있습니다  \\n아니 근데 이게 어느새 뭐지?\\n안녕하세요 파이썬 영상 잘봤습니다\\n빵형님 영상에서',\n",
       " '잘 보고 있습니다! ᄏᄏ\\n너무 오랜만입니다 진짜 좋은 정보 감사합니다.\\nAttribute:  Attainment_c',\n",
       " '잘 보고 있습니다~\\n혹시 좋은 정보를 줘서 정말 감사합니다!\\n저도 재미있게 보았습니다\\n제가 이렇게 팅커버 게임을 사용하려고 했는데',\n",
       " '잘 보고 있습니다  \\n제가 직접 모델하우스를 만들어 봤는데 모델 하시는 분들은 꼭 이렇게 만드셔야 하는지 궁금합니다.\\n오 이거 너무 좋은데']"
      ]
     },
     "execution_count": 48,
     "metadata": {},
     "output_type": "execute_result"
    }
   ],
   "source": [
    "r = requests.post(\n",
    "    'https://train-apgvsf6fu3r69b8eykct-gpt2-train-teachable-ainize.endpoint.ainize.ai/predictions/gpt-2-ko-small-finetune',\n",
    "    headers={\n",
    "      'Content-Type': 'application/json'  \n",
    "    },\n",
    "    data=json.dumps({\n",
    "        'text': '잘 보고 있습니다',\n",
    "        'num_samples': 5,\n",
    "        'length': 32\n",
    "    }))\n",
    "\n",
    "r.json()"
   ]
  },
  {
   "cell_type": "code",
   "execution_count": 49,
   "metadata": {},
   "outputs": [
    {
     "name": "stdout",
     "output_type": "stream",
     "text": [
      "잘 보고 있습니다!!!\n",
      "정말 재미있게 잘보고 있네요!\n",
      "와 재밌게 잘 배우고 갑니다!\n",
      "선생님 감사합니다. 너무 잘 따라 합니다..\n",
      "잘 보고 있습니다  \n",
      "아니 근데 이게 어느새 뭐지?\n",
      "안녕하세요 파이썬 영상 잘봤습니다\n",
      "빵형님 영상에서\n",
      "잘 보고 있습니다! ᄏᄏ\n",
      "너무 오랜만입니다 진짜 좋은 정보 감사합니다.\n",
      "Attribute:  Attainment_c\n",
      "잘 보고 있습니다~\n",
      "혹시 좋은 정보를 줘서 정말 감사합니다!\n",
      "저도 재미있게 보았습니다\n",
      "제가 이렇게 팅커버 게임을 사용하려고 했는데\n",
      "잘 보고 있습니다  \n",
      "제가 직접 모델하우스를 만들어 봤는데 모델 하시는 분들은 꼭 이렇게 만드셔야 하는지 궁금합니다.\n",
      "오 이거 너무 좋은데\n"
     ]
    }
   ],
   "source": [
    "result = r.json()\n",
    "\n",
    "for r in result:\n",
    "    print(r)"
   ]
  },
  {
   "cell_type": "code",
   "execution_count": null,
   "metadata": {},
   "outputs": [],
   "source": []
  }
 ],
 "metadata": {
  "kernelspec": {
   "display_name": "Python 3",
   "language": "python",
   "name": "python3"
  },
  "language_info": {
   "codemirror_mode": {
    "name": "ipython",
    "version": 3
   },
   "file_extension": ".py",
   "mimetype": "text/x-python",
   "name": "python",
   "nbconvert_exporter": "python",
   "pygments_lexer": "ipython3",
   "version": "3.7.9"
  }
 },
 "nbformat": 4,
 "nbformat_minor": 4
}
